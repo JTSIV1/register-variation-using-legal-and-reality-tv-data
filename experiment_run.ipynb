{
 "cells": [
  {
   "cell_type": "markdown",
   "metadata": {},
   "source": [
    "## Run Experiment"
   ]
  },
  {
   "cell_type": "code",
   "execution_count": 10,
   "metadata": {},
   "outputs": [],
   "source": [
    "import pandas as pd\n",
    "from sklearn.feature_extraction.text import CountVectorizer\n",
    "from sklearn.metrics.pairwise import cosine_similarity\n",
    "from sklearn.metrics import jaccard_score\n",
    "\n",
    "def calculate_similarity_cosine(item, df):\n",
    "    result = 0\n",
    "    for i in df.sample(10)[\"Text\"]:\n",
    "        vectorizer = CountVectorizer().fit_transform([item, i])\n",
    "        vectors = vectorizer.toarray()\n",
    "        cosine_sim = cosine_similarity(vectors)\n",
    "        result += cosine_sim[0][1]\n",
    "    return result / 10\n",
    "\n",
    "def calculate_similarity_jaccard(item, df):\n",
    "    result = 0\n",
    "    vectorizer = CountVectorizer(binary=True).fit_transform([item] + df.sample(10)[\"Text\"].tolist())\n",
    "    item_vector = vectorizer.toarray()[0]\n",
    "    \n",
    "    for i in range(1, 11):\n",
    "        i_vector = vectorizer.toarray()[i]\n",
    "        jaccard_sim = jaccard_score(item_vector, i_vector)\n",
    "        result += jaccard_sim\n",
    "    return result / 10\n",
    "\n",
    "def run_analysis(lang, method, save_file):\n",
    "    web_data_route = f'Experiment Data/Web/{lang}/{lang}_Web.gz'\n",
    "    legal_data_route = f'Experiment Data/Legal/{lang}/{lang}_Law.gz'\n",
    "    tv_data_route = f'Experiment Data/TV/{lang}/{lang}_TV.gz'\n",
    "\n",
    "    result_df = pd.DataFrame(columns=['Domain', 'Similarity to TV', 'Similarity to Legal', 'Similarity to Web'])\n",
    "\n",
    "    web_df = pd.read_csv(web_data_route, compression='gzip')\n",
    "    legal_df = pd.read_csv(legal_data_route, compression='gzip')\n",
    "    tv_df = pd.read_csv(tv_data_route, compression='gzip')\n",
    "\n",
    "    for df, domain in zip([web_df, legal_df, tv_df], ['Web', 'Legal', 'TV']):\n",
    "        sample = df.sample(40)\n",
    "        for i in sample[\"Text\"]:\n",
    "            new_row = pd.DataFrame({'Domain': [domain], 'Similarity to TV': [method(i, tv_df)], 'Similarity to Legal': [method(i, legal_df)], 'Similarity to Web': [method(i, web_df)]})\n",
    "            result_df = pd.concat([result_df, new_row], ignore_index=True)\n",
    "\n",
    "    result_df.to_csv(save_file)"
   ]
  },
  {
   "cell_type": "code",
   "execution_count": 11,
   "metadata": {},
   "outputs": [
    {
     "name": "stderr",
     "output_type": "stream",
     "text": [
      "C:\\Users\\johns\\AppData\\Local\\Temp\\ipykernel_39040\\3725396796.py:41: FutureWarning: The behavior of DataFrame concatenation with empty or all-NA entries is deprecated. In a future version, this will no longer exclude empty or all-NA columns when determining the result dtypes. To retain the old behavior, exclude the relevant entries before the concat operation.\n",
      "  result_df = pd.concat([result_df, new_row], ignore_index=True)\n",
      "C:\\Users\\johns\\AppData\\Local\\Temp\\ipykernel_39040\\3725396796.py:41: FutureWarning: The behavior of DataFrame concatenation with empty or all-NA entries is deprecated. In a future version, this will no longer exclude empty or all-NA columns when determining the result dtypes. To retain the old behavior, exclude the relevant entries before the concat operation.\n",
      "  result_df = pd.concat([result_df, new_row], ignore_index=True)\n",
      "C:\\Users\\johns\\AppData\\Local\\Temp\\ipykernel_39040\\3725396796.py:41: FutureWarning: The behavior of DataFrame concatenation with empty or all-NA entries is deprecated. In a future version, this will no longer exclude empty or all-NA columns when determining the result dtypes. To retain the old behavior, exclude the relevant entries before the concat operation.\n",
      "  result_df = pd.concat([result_df, new_row], ignore_index=True)\n",
      "C:\\Users\\johns\\AppData\\Local\\Temp\\ipykernel_39040\\3725396796.py:41: FutureWarning: The behavior of DataFrame concatenation with empty or all-NA entries is deprecated. In a future version, this will no longer exclude empty or all-NA columns when determining the result dtypes. To retain the old behavior, exclude the relevant entries before the concat operation.\n",
      "  result_df = pd.concat([result_df, new_row], ignore_index=True)\n",
      "C:\\Users\\johns\\AppData\\Local\\Temp\\ipykernel_39040\\3725396796.py:41: FutureWarning: The behavior of DataFrame concatenation with empty or all-NA entries is deprecated. In a future version, this will no longer exclude empty or all-NA columns when determining the result dtypes. To retain the old behavior, exclude the relevant entries before the concat operation.\n",
      "  result_df = pd.concat([result_df, new_row], ignore_index=True)\n",
      "C:\\Users\\johns\\AppData\\Local\\Temp\\ipykernel_39040\\3725396796.py:41: FutureWarning: The behavior of DataFrame concatenation with empty or all-NA entries is deprecated. In a future version, this will no longer exclude empty or all-NA columns when determining the result dtypes. To retain the old behavior, exclude the relevant entries before the concat operation.\n",
      "  result_df = pd.concat([result_df, new_row], ignore_index=True)\n",
      "C:\\Users\\johns\\AppData\\Local\\Temp\\ipykernel_39040\\3725396796.py:41: FutureWarning: The behavior of DataFrame concatenation with empty or all-NA entries is deprecated. In a future version, this will no longer exclude empty or all-NA columns when determining the result dtypes. To retain the old behavior, exclude the relevant entries before the concat operation.\n",
      "  result_df = pd.concat([result_df, new_row], ignore_index=True)\n",
      "C:\\Users\\johns\\AppData\\Local\\Temp\\ipykernel_39040\\3725396796.py:41: FutureWarning: The behavior of DataFrame concatenation with empty or all-NA entries is deprecated. In a future version, this will no longer exclude empty or all-NA columns when determining the result dtypes. To retain the old behavior, exclude the relevant entries before the concat operation.\n",
      "  result_df = pd.concat([result_df, new_row], ignore_index=True)\n",
      "C:\\Users\\johns\\AppData\\Local\\Temp\\ipykernel_39040\\3725396796.py:41: FutureWarning: The behavior of DataFrame concatenation with empty or all-NA entries is deprecated. In a future version, this will no longer exclude empty or all-NA columns when determining the result dtypes. To retain the old behavior, exclude the relevant entries before the concat operation.\n",
      "  result_df = pd.concat([result_df, new_row], ignore_index=True)\n",
      "C:\\Users\\johns\\AppData\\Local\\Temp\\ipykernel_39040\\3725396796.py:41: FutureWarning: The behavior of DataFrame concatenation with empty or all-NA entries is deprecated. In a future version, this will no longer exclude empty or all-NA columns when determining the result dtypes. To retain the old behavior, exclude the relevant entries before the concat operation.\n",
      "  result_df = pd.concat([result_df, new_row], ignore_index=True)\n"
     ]
    }
   ],
   "source": [
    "for lang in ['EN', 'FI', 'EL', 'PT', 'PL']:\n",
    "    run_analysis(lang, calculate_similarity_jaccard, f'Results/{lang}_jaccard_results.csv')\n",
    "    run_analysis(lang, calculate_similarity_cosine, f'Results/{lang}_cosine_results.csv')"
   ]
  }
 ],
 "metadata": {
  "kernelspec": {
   "display_name": "ling413env",
   "language": "python",
   "name": "python3"
  },
  "language_info": {
   "codemirror_mode": {
    "name": "ipython",
    "version": 3
   },
   "file_extension": ".py",
   "mimetype": "text/x-python",
   "name": "python",
   "nbconvert_exporter": "python",
   "pygments_lexer": "ipython3",
   "version": "3.12.6"
  }
 },
 "nbformat": 4,
 "nbformat_minor": 2
}
